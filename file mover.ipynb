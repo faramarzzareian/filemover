{
 "cells": [
  {
   "cell_type": "markdown",
   "metadata": {},
   "source": [
    "I have dataset.csv with heads ( ID , LINK1 ) and i want to my code look into dataset from fisrt row and base on each ID create a folder and parse the name of file which is downloaded from this link and move the file to related folder(name of folder is image ID)"
   ]
  },
  {
   "cell_type": "code",
   "execution_count": 1,
   "metadata": {},
   "outputs": [],
   "source": [
    "import pandas as pd \n",
    "\n",
    "data = pd.read_csv(\"dataset.csv\") "
   ]
  },
  {
   "cell_type": "code",
   "execution_count": 7,
   "metadata": {},
   "outputs": [],
   "source": [
    "import os , shutil\n",
    "path1=os.chdir('c:\\\\users\\\\faramarz\\\\desktop\\\\img1\\\\')\n",
    " \n",
    "for i in range (19) :\n",
    "    t=(data.ID)\n",
    "    f=str(t[i])\n",
    "    x=os.path.basename(data.link1[i])\n",
    "    if not os.path.exists(\"c:\\\\users\\\\faramarz\\\\desktop\\\\img1\\\\\"+ f):\n",
    "        os.makedirs(f)\n",
    "    shutil.move(\"c:\\\\users\\\\faramarz\\\\desktop\\\\img1\\\\images\\\\\"+ x , f)"
   ]
  },
  {
   "cell_type": "code",
   "execution_count": null,
   "metadata": {},
   "outputs": [],
   "source": []
  },
  {
   "cell_type": "code",
   "execution_count": null,
   "metadata": {},
   "outputs": [],
   "source": []
  }
 ],
 "metadata": {
  "kernelspec": {
   "display_name": "Python 3",
   "language": "python",
   "name": "python3"
  },
  "language_info": {
   "codemirror_mode": {
    "name": "ipython",
    "version": 3
   },
   "file_extension": ".py",
   "mimetype": "text/x-python",
   "name": "python",
   "nbconvert_exporter": "python",
   "pygments_lexer": "ipython3",
   "version": "3.8.5"
  }
 },
 "nbformat": 4,
 "nbformat_minor": 4
}
